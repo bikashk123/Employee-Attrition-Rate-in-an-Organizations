{
  "nbformat": 4,
  "nbformat_minor": 0,
  "metadata": {
    "kernelspec": {
      "display_name": "Python 3",
      "language": "python",
      "name": "python3"
    },
    "language_info": {
      "codemirror_mode": {
        "name": "ipython",
        "version": 3
      },
      "file_extension": ".py",
      "mimetype": "text/x-python",
      "name": "python",
      "nbconvert_exporter": "python",
      "pygments_lexer": "ipython3",
      "version": "3.7.4"
    },
    "colab": {
      "name": "employee_attrition_rate.ipynb",
      "provenance": [],
      "include_colab_link": true
    }
  },
  "cells": [
    {
      "cell_type": "markdown",
      "metadata": {
        "id": "view-in-github",
        "colab_type": "text"
      },
      "source": [
        "<a href=\"https://colab.research.google.com/github/bikashk123/Employee-Attrition-Rate-in-an-Organizations/blob/master/employee_attrition_rate.ipynb\" target=\"_parent\"><img src=\"https://colab.research.google.com/assets/colab-badge.svg\" alt=\"Open In Colab\"/></a>"
      ]
    },
    {
      "cell_type": "code",
      "metadata": {
        "id": "Fwbnlk6kYFx1",
        "colab_type": "code",
        "colab": {}
      },
      "source": [
        "import pandas as pd\n",
        "import numpy as np\n",
        "import seaborn as sns\n",
        "import matplotlib.pyplot as plt"
      ],
      "execution_count": null,
      "outputs": []
    },
    {
      "cell_type": "code",
      "metadata": {
        "id": "aoZdsgFaYFx9",
        "colab_type": "code",
        "colab": {}
      },
      "source": [
        "df1=pd.read_csv(\"Train.csv\")\n",
        "df2=pd.read_csv(\"Test.csv\")"
      ],
      "execution_count": null,
      "outputs": []
    },
    {
      "cell_type": "code",
      "metadata": {
        "id": "4qx1BBN7YFyE",
        "colab_type": "code",
        "colab": {},
        "outputId": "c6954deb-166f-408b-d4d5-eb28454a388e"
      },
      "source": [
        "df1.head()"
      ],
      "execution_count": null,
      "outputs": [
        {
          "output_type": "execute_result",
          "data": {
            "text/html": [
              "<div>\n",
              "<style scoped>\n",
              "    .dataframe tbody tr th:only-of-type {\n",
              "        vertical-align: middle;\n",
              "    }\n",
              "\n",
              "    .dataframe tbody tr th {\n",
              "        vertical-align: top;\n",
              "    }\n",
              "\n",
              "    .dataframe thead th {\n",
              "        text-align: right;\n",
              "    }\n",
              "</style>\n",
              "<table border=\"1\" class=\"dataframe\">\n",
              "  <thead>\n",
              "    <tr style=\"text-align: right;\">\n",
              "      <th></th>\n",
              "      <th>Employee_ID</th>\n",
              "      <th>Gender</th>\n",
              "      <th>Age</th>\n",
              "      <th>Education_Level</th>\n",
              "      <th>Relationship_Status</th>\n",
              "      <th>Hometown</th>\n",
              "      <th>Unit</th>\n",
              "      <th>Decision_skill_possess</th>\n",
              "      <th>Time_of_service</th>\n",
              "      <th>Time_since_promotion</th>\n",
              "      <th>...</th>\n",
              "      <th>Compensation_and_Benefits</th>\n",
              "      <th>Work_Life_balance</th>\n",
              "      <th>VAR1</th>\n",
              "      <th>VAR2</th>\n",
              "      <th>VAR3</th>\n",
              "      <th>VAR4</th>\n",
              "      <th>VAR5</th>\n",
              "      <th>VAR6</th>\n",
              "      <th>VAR7</th>\n",
              "      <th>Attrition_rate</th>\n",
              "    </tr>\n",
              "  </thead>\n",
              "  <tbody>\n",
              "    <tr>\n",
              "      <td>0</td>\n",
              "      <td>EID_23371</td>\n",
              "      <td>F</td>\n",
              "      <td>42.0</td>\n",
              "      <td>4</td>\n",
              "      <td>Married</td>\n",
              "      <td>Franklin</td>\n",
              "      <td>IT</td>\n",
              "      <td>Conceptual</td>\n",
              "      <td>4.0</td>\n",
              "      <td>4</td>\n",
              "      <td>...</td>\n",
              "      <td>type2</td>\n",
              "      <td>3.0</td>\n",
              "      <td>4</td>\n",
              "      <td>0.7516</td>\n",
              "      <td>1.8688</td>\n",
              "      <td>2.0</td>\n",
              "      <td>4</td>\n",
              "      <td>5</td>\n",
              "      <td>3</td>\n",
              "      <td>0.1841</td>\n",
              "    </tr>\n",
              "    <tr>\n",
              "      <td>1</td>\n",
              "      <td>EID_18000</td>\n",
              "      <td>M</td>\n",
              "      <td>24.0</td>\n",
              "      <td>3</td>\n",
              "      <td>Single</td>\n",
              "      <td>Springfield</td>\n",
              "      <td>Logistics</td>\n",
              "      <td>Analytical</td>\n",
              "      <td>5.0</td>\n",
              "      <td>4</td>\n",
              "      <td>...</td>\n",
              "      <td>type2</td>\n",
              "      <td>4.0</td>\n",
              "      <td>3</td>\n",
              "      <td>-0.9612</td>\n",
              "      <td>-0.4537</td>\n",
              "      <td>2.0</td>\n",
              "      <td>3</td>\n",
              "      <td>5</td>\n",
              "      <td>3</td>\n",
              "      <td>0.0670</td>\n",
              "    </tr>\n",
              "    <tr>\n",
              "      <td>2</td>\n",
              "      <td>EID_3891</td>\n",
              "      <td>F</td>\n",
              "      <td>58.0</td>\n",
              "      <td>3</td>\n",
              "      <td>Married</td>\n",
              "      <td>Clinton</td>\n",
              "      <td>Quality</td>\n",
              "      <td>Conceptual</td>\n",
              "      <td>27.0</td>\n",
              "      <td>3</td>\n",
              "      <td>...</td>\n",
              "      <td>type2</td>\n",
              "      <td>1.0</td>\n",
              "      <td>4</td>\n",
              "      <td>-0.9612</td>\n",
              "      <td>-0.4537</td>\n",
              "      <td>3.0</td>\n",
              "      <td>3</td>\n",
              "      <td>8</td>\n",
              "      <td>3</td>\n",
              "      <td>0.0851</td>\n",
              "    </tr>\n",
              "    <tr>\n",
              "      <td>3</td>\n",
              "      <td>EID_17492</td>\n",
              "      <td>F</td>\n",
              "      <td>26.0</td>\n",
              "      <td>3</td>\n",
              "      <td>Single</td>\n",
              "      <td>Lebanon</td>\n",
              "      <td>Human Resource Management</td>\n",
              "      <td>Behavioral</td>\n",
              "      <td>4.0</td>\n",
              "      <td>3</td>\n",
              "      <td>...</td>\n",
              "      <td>type2</td>\n",
              "      <td>1.0</td>\n",
              "      <td>3</td>\n",
              "      <td>-1.8176</td>\n",
              "      <td>-0.4537</td>\n",
              "      <td>NaN</td>\n",
              "      <td>3</td>\n",
              "      <td>7</td>\n",
              "      <td>3</td>\n",
              "      <td>0.0668</td>\n",
              "    </tr>\n",
              "    <tr>\n",
              "      <td>4</td>\n",
              "      <td>EID_22534</td>\n",
              "      <td>F</td>\n",
              "      <td>31.0</td>\n",
              "      <td>1</td>\n",
              "      <td>Married</td>\n",
              "      <td>Springfield</td>\n",
              "      <td>Logistics</td>\n",
              "      <td>Conceptual</td>\n",
              "      <td>5.0</td>\n",
              "      <td>4</td>\n",
              "      <td>...</td>\n",
              "      <td>type3</td>\n",
              "      <td>3.0</td>\n",
              "      <td>1</td>\n",
              "      <td>0.7516</td>\n",
              "      <td>-0.4537</td>\n",
              "      <td>2.0</td>\n",
              "      <td>2</td>\n",
              "      <td>8</td>\n",
              "      <td>2</td>\n",
              "      <td>0.1827</td>\n",
              "    </tr>\n",
              "  </tbody>\n",
              "</table>\n",
              "<p>5 rows × 24 columns</p>\n",
              "</div>"
            ],
            "text/plain": [
              "  Employee_ID Gender   Age  Education_Level Relationship_Status     Hometown  \\\n",
              "0   EID_23371      F  42.0                4             Married     Franklin   \n",
              "1   EID_18000      M  24.0                3              Single  Springfield   \n",
              "2    EID_3891      F  58.0                3             Married      Clinton   \n",
              "3   EID_17492      F  26.0                3              Single      Lebanon   \n",
              "4   EID_22534      F  31.0                1             Married  Springfield   \n",
              "\n",
              "                        Unit Decision_skill_possess  Time_of_service  \\\n",
              "0                         IT             Conceptual              4.0   \n",
              "1                  Logistics             Analytical              5.0   \n",
              "2                    Quality             Conceptual             27.0   \n",
              "3  Human Resource Management             Behavioral              4.0   \n",
              "4                  Logistics             Conceptual              5.0   \n",
              "\n",
              "   Time_since_promotion  ...  Compensation_and_Benefits  Work_Life_balance  \\\n",
              "0                     4  ...                      type2                3.0   \n",
              "1                     4  ...                      type2                4.0   \n",
              "2                     3  ...                      type2                1.0   \n",
              "3                     3  ...                      type2                1.0   \n",
              "4                     4  ...                      type3                3.0   \n",
              "\n",
              "   VAR1    VAR2    VAR3  VAR4  VAR5  VAR6  VAR7  Attrition_rate  \n",
              "0     4  0.7516  1.8688   2.0     4     5     3          0.1841  \n",
              "1     3 -0.9612 -0.4537   2.0     3     5     3          0.0670  \n",
              "2     4 -0.9612 -0.4537   3.0     3     8     3          0.0851  \n",
              "3     3 -1.8176 -0.4537   NaN     3     7     3          0.0668  \n",
              "4     1  0.7516 -0.4537   2.0     2     8     2          0.1827  \n",
              "\n",
              "[5 rows x 24 columns]"
            ]
          },
          "metadata": {
            "tags": []
          },
          "execution_count": 3
        }
      ]
    },
    {
      "cell_type": "code",
      "metadata": {
        "id": "RJsPI1XAYFyM",
        "colab_type": "code",
        "colab": {},
        "outputId": "e4ec4955-3053-474d-8c8d-0ac5d18fb010"
      },
      "source": [
        "df2.head()"
      ],
      "execution_count": null,
      "outputs": [
        {
          "output_type": "execute_result",
          "data": {
            "text/html": [
              "<div>\n",
              "<style scoped>\n",
              "    .dataframe tbody tr th:only-of-type {\n",
              "        vertical-align: middle;\n",
              "    }\n",
              "\n",
              "    .dataframe tbody tr th {\n",
              "        vertical-align: top;\n",
              "    }\n",
              "\n",
              "    .dataframe thead th {\n",
              "        text-align: right;\n",
              "    }\n",
              "</style>\n",
              "<table border=\"1\" class=\"dataframe\">\n",
              "  <thead>\n",
              "    <tr style=\"text-align: right;\">\n",
              "      <th></th>\n",
              "      <th>Employee_ID</th>\n",
              "      <th>Gender</th>\n",
              "      <th>Age</th>\n",
              "      <th>Education_Level</th>\n",
              "      <th>Relationship_Status</th>\n",
              "      <th>Hometown</th>\n",
              "      <th>Unit</th>\n",
              "      <th>Decision_skill_possess</th>\n",
              "      <th>Time_of_service</th>\n",
              "      <th>Time_since_promotion</th>\n",
              "      <th>...</th>\n",
              "      <th>Pay_Scale</th>\n",
              "      <th>Compensation_and_Benefits</th>\n",
              "      <th>Work_Life_balance</th>\n",
              "      <th>VAR1</th>\n",
              "      <th>VAR2</th>\n",
              "      <th>VAR3</th>\n",
              "      <th>VAR4</th>\n",
              "      <th>VAR5</th>\n",
              "      <th>VAR6</th>\n",
              "      <th>VAR7</th>\n",
              "    </tr>\n",
              "  </thead>\n",
              "  <tbody>\n",
              "    <tr>\n",
              "      <td>0</td>\n",
              "      <td>EID_22713</td>\n",
              "      <td>F</td>\n",
              "      <td>32.0</td>\n",
              "      <td>5</td>\n",
              "      <td>Single</td>\n",
              "      <td>Springfield</td>\n",
              "      <td>R&amp;D</td>\n",
              "      <td>Conceptual</td>\n",
              "      <td>7.0</td>\n",
              "      <td>4</td>\n",
              "      <td>...</td>\n",
              "      <td>4.0</td>\n",
              "      <td>type2</td>\n",
              "      <td>1.0</td>\n",
              "      <td>3</td>\n",
              "      <td>-0.9612</td>\n",
              "      <td>-0.4537</td>\n",
              "      <td>2.0</td>\n",
              "      <td>1</td>\n",
              "      <td>8</td>\n",
              "      <td>4</td>\n",
              "    </tr>\n",
              "    <tr>\n",
              "      <td>1</td>\n",
              "      <td>EID_9658</td>\n",
              "      <td>M</td>\n",
              "      <td>65.0</td>\n",
              "      <td>2</td>\n",
              "      <td>Single</td>\n",
              "      <td>Lebanon</td>\n",
              "      <td>IT</td>\n",
              "      <td>Directive</td>\n",
              "      <td>41.0</td>\n",
              "      <td>2</td>\n",
              "      <td>...</td>\n",
              "      <td>1.0</td>\n",
              "      <td>type2</td>\n",
              "      <td>1.0</td>\n",
              "      <td>4</td>\n",
              "      <td>-0.9612</td>\n",
              "      <td>0.7075</td>\n",
              "      <td>1.0</td>\n",
              "      <td>2</td>\n",
              "      <td>8</td>\n",
              "      <td>2</td>\n",
              "    </tr>\n",
              "    <tr>\n",
              "      <td>2</td>\n",
              "      <td>EID_22203</td>\n",
              "      <td>M</td>\n",
              "      <td>52.0</td>\n",
              "      <td>3</td>\n",
              "      <td>Married</td>\n",
              "      <td>Springfield</td>\n",
              "      <td>Sales</td>\n",
              "      <td>Directive</td>\n",
              "      <td>21.0</td>\n",
              "      <td>3</td>\n",
              "      <td>...</td>\n",
              "      <td>8.0</td>\n",
              "      <td>type3</td>\n",
              "      <td>1.0</td>\n",
              "      <td>4</td>\n",
              "      <td>-0.1048</td>\n",
              "      <td>0.7075</td>\n",
              "      <td>2.0</td>\n",
              "      <td>1</td>\n",
              "      <td>9</td>\n",
              "      <td>3</td>\n",
              "    </tr>\n",
              "    <tr>\n",
              "      <td>3</td>\n",
              "      <td>EID_7652</td>\n",
              "      <td>M</td>\n",
              "      <td>50.0</td>\n",
              "      <td>5</td>\n",
              "      <td>Single</td>\n",
              "      <td>Washington</td>\n",
              "      <td>Marketing</td>\n",
              "      <td>Analytical</td>\n",
              "      <td>11.0</td>\n",
              "      <td>4</td>\n",
              "      <td>...</td>\n",
              "      <td>2.0</td>\n",
              "      <td>type0</td>\n",
              "      <td>4.0</td>\n",
              "      <td>3</td>\n",
              "      <td>-0.1048</td>\n",
              "      <td>0.7075</td>\n",
              "      <td>2.0</td>\n",
              "      <td>2</td>\n",
              "      <td>8</td>\n",
              "      <td>3</td>\n",
              "    </tr>\n",
              "    <tr>\n",
              "      <td>4</td>\n",
              "      <td>EID_6516</td>\n",
              "      <td>F</td>\n",
              "      <td>44.0</td>\n",
              "      <td>3</td>\n",
              "      <td>Married</td>\n",
              "      <td>Franklin</td>\n",
              "      <td>R&amp;D</td>\n",
              "      <td>Conceptual</td>\n",
              "      <td>12.0</td>\n",
              "      <td>4</td>\n",
              "      <td>...</td>\n",
              "      <td>2.0</td>\n",
              "      <td>type2</td>\n",
              "      <td>4.0</td>\n",
              "      <td>4</td>\n",
              "      <td>1.6081</td>\n",
              "      <td>0.7075</td>\n",
              "      <td>2.0</td>\n",
              "      <td>2</td>\n",
              "      <td>7</td>\n",
              "      <td>4</td>\n",
              "    </tr>\n",
              "  </tbody>\n",
              "</table>\n",
              "<p>5 rows × 23 columns</p>\n",
              "</div>"
            ],
            "text/plain": [
              "  Employee_ID Gender   Age  Education_Level Relationship_Status     Hometown  \\\n",
              "0   EID_22713      F  32.0                5              Single  Springfield   \n",
              "1    EID_9658      M  65.0                2              Single      Lebanon   \n",
              "2   EID_22203      M  52.0                3             Married  Springfield   \n",
              "3    EID_7652      M  50.0                5              Single   Washington   \n",
              "4    EID_6516      F  44.0                3             Married     Franklin   \n",
              "\n",
              "        Unit Decision_skill_possess  Time_of_service  Time_since_promotion  \\\n",
              "0        R&D             Conceptual              7.0                     4   \n",
              "1         IT              Directive             41.0                     2   \n",
              "2      Sales              Directive             21.0                     3   \n",
              "3  Marketing             Analytical             11.0                     4   \n",
              "4        R&D             Conceptual             12.0                     4   \n",
              "\n",
              "   ...  Pay_Scale  Compensation_and_Benefits  Work_Life_balance  VAR1    VAR2  \\\n",
              "0  ...        4.0                      type2                1.0     3 -0.9612   \n",
              "1  ...        1.0                      type2                1.0     4 -0.9612   \n",
              "2  ...        8.0                      type3                1.0     4 -0.1048   \n",
              "3  ...        2.0                      type0                4.0     3 -0.1048   \n",
              "4  ...        2.0                      type2                4.0     4  1.6081   \n",
              "\n",
              "     VAR3  VAR4  VAR5  VAR6  VAR7  \n",
              "0 -0.4537   2.0     1     8     4  \n",
              "1  0.7075   1.0     2     8     2  \n",
              "2  0.7075   2.0     1     9     3  \n",
              "3  0.7075   2.0     2     8     3  \n",
              "4  0.7075   2.0     2     7     4  \n",
              "\n",
              "[5 rows x 23 columns]"
            ]
          },
          "metadata": {
            "tags": []
          },
          "execution_count": 4
        }
      ]
    },
    {
      "cell_type": "code",
      "metadata": {
        "id": "BU7lFParYFyT",
        "colab_type": "code",
        "colab": {},
        "outputId": "d2e7e9dd-db4c-4f08-cb8b-28e93da831e4"
      },
      "source": [
        "df2.isnull().any().sum()"
      ],
      "execution_count": null,
      "outputs": [
        {
          "output_type": "execute_result",
          "data": {
            "text/plain": [
              "6"
            ]
          },
          "metadata": {
            "tags": []
          },
          "execution_count": 5
        }
      ]
    },
    {
      "cell_type": "code",
      "metadata": {
        "id": "kH-npg6eYFyY",
        "colab_type": "code",
        "colab": {}
      },
      "source": [
        "data1=df1.fillna(df1.mean())\n",
        "data2=df2.fillna(df2.mean())"
      ],
      "execution_count": null,
      "outputs": []
    },
    {
      "cell_type": "code",
      "metadata": {
        "id": "kJ1_AnNBYFye",
        "colab_type": "code",
        "colab": {}
      },
      "source": [
        "data1['Age'] = data1['Age'].apply(pd.to_numeric)\n",
        "data2['Age'] = data2['Age'].apply(pd.to_numeric)"
      ],
      "execution_count": null,
      "outputs": []
    },
    {
      "cell_type": "code",
      "metadata": {
        "id": "0gGKjmwWYFyk",
        "colab_type": "code",
        "colab": {},
        "outputId": "54cd0fb5-3d14-4e84-9d2c-14dbec33ae4d"
      },
      "source": [
        "data1['Education_Level'].value_counts()"
      ],
      "execution_count": null,
      "outputs": [
        {
          "output_type": "execute_result",
          "data": {
            "text/plain": [
              "3    2878\n",
              "4    2076\n",
              "1     695\n",
              "2     691\n",
              "5     660\n",
              "Name: Education_Level, dtype: int64"
            ]
          },
          "metadata": {
            "tags": []
          },
          "execution_count": 8
        }
      ]
    },
    {
      "cell_type": "code",
      "metadata": {
        "id": "75laBvVGYFyp",
        "colab_type": "code",
        "colab": {},
        "outputId": "a371bb4f-7c76-40ba-905f-bc20fe1f8049"
      },
      "source": [
        "data1['Hometown'].value_counts()"
      ],
      "execution_count": null,
      "outputs": [
        {
          "output_type": "execute_result",
          "data": {
            "text/plain": [
              "Lebanon        2070\n",
              "Springfield    1736\n",
              "Franklin       1523\n",
              "Washington     1106\n",
              "Clinton         565\n",
              "Name: Hometown, dtype: int64"
            ]
          },
          "metadata": {
            "tags": []
          },
          "execution_count": 9
        }
      ]
    },
    {
      "cell_type": "code",
      "metadata": {
        "id": "QFHgVZchYFyu",
        "colab_type": "code",
        "colab": {},
        "outputId": "01a64768-946c-4227-c884-1debf31c98d2"
      },
      "source": [
        "data1['Decision_skill_possess'].value_counts()"
      ],
      "execution_count": null,
      "outputs": [
        {
          "output_type": "execute_result",
          "data": {
            "text/plain": [
              "Conceptual    1756\n",
              "Analytical    1755\n",
              "Directive     1753\n",
              "Behavioral    1736\n",
              "Name: Decision_skill_possess, dtype: int64"
            ]
          },
          "metadata": {
            "tags": []
          },
          "execution_count": 10
        }
      ]
    },
    {
      "cell_type": "code",
      "metadata": {
        "id": "-KyvSv-qYFy1",
        "colab_type": "code",
        "colab": {},
        "outputId": "b40c718e-5015-4288-f94c-60a0949e8e1e"
      },
      "source": [
        "data1['Pay_Scale'].value_counts()"
      ],
      "execution_count": null,
      "outputs": [
        {
          "output_type": "execute_result",
          "data": {
            "text/plain": [
              "8.000000     1392\n",
              "6.000000     1284\n",
              "5.000000     1160\n",
              "4.000000      983\n",
              "7.000000      811\n",
              "9.000000      464\n",
              "2.000000      277\n",
              "3.000000      255\n",
              "10.000000     209\n",
              "1.000000      156\n",
              "6.006294        9\n",
              "Name: Pay_Scale, dtype: int64"
            ]
          },
          "metadata": {
            "tags": []
          },
          "execution_count": 11
        }
      ]
    },
    {
      "cell_type": "code",
      "metadata": {
        "id": "5Q5UX2kGYFy5",
        "colab_type": "code",
        "colab": {},
        "outputId": "8f3230a6-54a2-462a-d759-9efdef5a7143"
      },
      "source": [
        "data1['VAR3'].value_counts()"
      ],
      "execution_count": null,
      "outputs": [
        {
          "output_type": "execute_result",
          "data": {
            "text/plain": [
              "-0.4537    3363\n",
              " 0.7075    2329\n",
              " 1.8688     610\n",
              "-1.6150     500\n",
              "-2.7762     198\n",
              "Name: VAR3, dtype: int64"
            ]
          },
          "metadata": {
            "tags": []
          },
          "execution_count": 12
        }
      ]
    },
    {
      "cell_type": "code",
      "metadata": {
        "id": "GPSrkFwvYFy-",
        "colab_type": "code",
        "colab": {}
      },
      "source": [
        "#Compensation_and_Benefits={'type0':0,'type1':1,'type2':2,'type3':3,'type4':4}\n",
        "#data['Compensation_and_Benefits']= data['Compensation_and_Benefits'].map(Compensation_and_Benefits)"
      ],
      "execution_count": null,
      "outputs": []
    },
    {
      "cell_type": "code",
      "metadata": {
        "id": "aunaTotaYFzE",
        "colab_type": "code",
        "colab": {}
      },
      "source": [
        "Gender={'F':0,'M':1}\n",
        "data1['Gender']= data1['Gender'].map(Gender)\n",
        "data2['Gender']= data2['Gender'].map(Gender)"
      ],
      "execution_count": null,
      "outputs": []
    },
    {
      "cell_type": "code",
      "metadata": {
        "id": "BlHlEBabYFzJ",
        "colab_type": "code",
        "colab": {}
      },
      "source": [
        "Relationship_Status={'Single':0,'Married':1}\n",
        "data1['Relationship_Status']= data1['Relationship_Status'].map(Relationship_Status)\n",
        "data2['Relationship_Status']= data2['Relationship_Status'].map(Relationship_Status)"
      ],
      "execution_count": null,
      "outputs": []
    },
    {
      "cell_type": "code",
      "metadata": {
        "id": "AbN4KYyUYFzN",
        "colab_type": "code",
        "colab": {}
      },
      "source": [
        "#X1=data1.drop('Employee_ID',axis=1)\n",
        "#X2=data2.drop('Employee_ID',axis=1)"
      ],
      "execution_count": null,
      "outputs": []
    },
    {
      "cell_type": "code",
      "metadata": {
        "id": "-WNk85PWYFzS",
        "colab_type": "code",
        "colab": {},
        "outputId": "a172e5e8-0cc9-4c4d-efc6-f04e58d06015"
      },
      "source": [
        "data1.head()"
      ],
      "execution_count": null,
      "outputs": [
        {
          "output_type": "execute_result",
          "data": {
            "text/html": [
              "<div>\n",
              "<style scoped>\n",
              "    .dataframe tbody tr th:only-of-type {\n",
              "        vertical-align: middle;\n",
              "    }\n",
              "\n",
              "    .dataframe tbody tr th {\n",
              "        vertical-align: top;\n",
              "    }\n",
              "\n",
              "    .dataframe thead th {\n",
              "        text-align: right;\n",
              "    }\n",
              "</style>\n",
              "<table border=\"1\" class=\"dataframe\">\n",
              "  <thead>\n",
              "    <tr style=\"text-align: right;\">\n",
              "      <th></th>\n",
              "      <th>Employee_ID</th>\n",
              "      <th>Gender</th>\n",
              "      <th>Age</th>\n",
              "      <th>Education_Level</th>\n",
              "      <th>Relationship_Status</th>\n",
              "      <th>Hometown</th>\n",
              "      <th>Unit</th>\n",
              "      <th>Decision_skill_possess</th>\n",
              "      <th>Time_of_service</th>\n",
              "      <th>Time_since_promotion</th>\n",
              "      <th>...</th>\n",
              "      <th>Compensation_and_Benefits</th>\n",
              "      <th>Work_Life_balance</th>\n",
              "      <th>VAR1</th>\n",
              "      <th>VAR2</th>\n",
              "      <th>VAR3</th>\n",
              "      <th>VAR4</th>\n",
              "      <th>VAR5</th>\n",
              "      <th>VAR6</th>\n",
              "      <th>VAR7</th>\n",
              "      <th>Attrition_rate</th>\n",
              "    </tr>\n",
              "  </thead>\n",
              "  <tbody>\n",
              "    <tr>\n",
              "      <td>0</td>\n",
              "      <td>EID_23371</td>\n",
              "      <td>0</td>\n",
              "      <td>42.0</td>\n",
              "      <td>4</td>\n",
              "      <td>1</td>\n",
              "      <td>Franklin</td>\n",
              "      <td>IT</td>\n",
              "      <td>Conceptual</td>\n",
              "      <td>4.0</td>\n",
              "      <td>4</td>\n",
              "      <td>...</td>\n",
              "      <td>type2</td>\n",
              "      <td>3.0</td>\n",
              "      <td>4</td>\n",
              "      <td>0.7516</td>\n",
              "      <td>1.8688</td>\n",
              "      <td>2.000000</td>\n",
              "      <td>4</td>\n",
              "      <td>5</td>\n",
              "      <td>3</td>\n",
              "      <td>0.1841</td>\n",
              "    </tr>\n",
              "    <tr>\n",
              "      <td>1</td>\n",
              "      <td>EID_18000</td>\n",
              "      <td>1</td>\n",
              "      <td>24.0</td>\n",
              "      <td>3</td>\n",
              "      <td>0</td>\n",
              "      <td>Springfield</td>\n",
              "      <td>Logistics</td>\n",
              "      <td>Analytical</td>\n",
              "      <td>5.0</td>\n",
              "      <td>4</td>\n",
              "      <td>...</td>\n",
              "      <td>type2</td>\n",
              "      <td>4.0</td>\n",
              "      <td>3</td>\n",
              "      <td>-0.9612</td>\n",
              "      <td>-0.4537</td>\n",
              "      <td>2.000000</td>\n",
              "      <td>3</td>\n",
              "      <td>5</td>\n",
              "      <td>3</td>\n",
              "      <td>0.0670</td>\n",
              "    </tr>\n",
              "    <tr>\n",
              "      <td>2</td>\n",
              "      <td>EID_3891</td>\n",
              "      <td>0</td>\n",
              "      <td>58.0</td>\n",
              "      <td>3</td>\n",
              "      <td>1</td>\n",
              "      <td>Clinton</td>\n",
              "      <td>Quality</td>\n",
              "      <td>Conceptual</td>\n",
              "      <td>27.0</td>\n",
              "      <td>3</td>\n",
              "      <td>...</td>\n",
              "      <td>type2</td>\n",
              "      <td>1.0</td>\n",
              "      <td>4</td>\n",
              "      <td>-0.9612</td>\n",
              "      <td>-0.4537</td>\n",
              "      <td>3.000000</td>\n",
              "      <td>3</td>\n",
              "      <td>8</td>\n",
              "      <td>3</td>\n",
              "      <td>0.0851</td>\n",
              "    </tr>\n",
              "    <tr>\n",
              "      <td>3</td>\n",
              "      <td>EID_17492</td>\n",
              "      <td>0</td>\n",
              "      <td>26.0</td>\n",
              "      <td>3</td>\n",
              "      <td>0</td>\n",
              "      <td>Lebanon</td>\n",
              "      <td>Human Resource Management</td>\n",
              "      <td>Behavioral</td>\n",
              "      <td>4.0</td>\n",
              "      <td>3</td>\n",
              "      <td>...</td>\n",
              "      <td>type2</td>\n",
              "      <td>1.0</td>\n",
              "      <td>3</td>\n",
              "      <td>-1.8176</td>\n",
              "      <td>-0.4537</td>\n",
              "      <td>1.891078</td>\n",
              "      <td>3</td>\n",
              "      <td>7</td>\n",
              "      <td>3</td>\n",
              "      <td>0.0668</td>\n",
              "    </tr>\n",
              "    <tr>\n",
              "      <td>4</td>\n",
              "      <td>EID_22534</td>\n",
              "      <td>0</td>\n",
              "      <td>31.0</td>\n",
              "      <td>1</td>\n",
              "      <td>1</td>\n",
              "      <td>Springfield</td>\n",
              "      <td>Logistics</td>\n",
              "      <td>Conceptual</td>\n",
              "      <td>5.0</td>\n",
              "      <td>4</td>\n",
              "      <td>...</td>\n",
              "      <td>type3</td>\n",
              "      <td>3.0</td>\n",
              "      <td>1</td>\n",
              "      <td>0.7516</td>\n",
              "      <td>-0.4537</td>\n",
              "      <td>2.000000</td>\n",
              "      <td>2</td>\n",
              "      <td>8</td>\n",
              "      <td>2</td>\n",
              "      <td>0.1827</td>\n",
              "    </tr>\n",
              "  </tbody>\n",
              "</table>\n",
              "<p>5 rows × 24 columns</p>\n",
              "</div>"
            ],
            "text/plain": [
              "  Employee_ID  Gender   Age  Education_Level  Relationship_Status  \\\n",
              "0   EID_23371       0  42.0                4                    1   \n",
              "1   EID_18000       1  24.0                3                    0   \n",
              "2    EID_3891       0  58.0                3                    1   \n",
              "3   EID_17492       0  26.0                3                    0   \n",
              "4   EID_22534       0  31.0                1                    1   \n",
              "\n",
              "      Hometown                       Unit Decision_skill_possess  \\\n",
              "0     Franklin                         IT             Conceptual   \n",
              "1  Springfield                  Logistics             Analytical   \n",
              "2      Clinton                    Quality             Conceptual   \n",
              "3      Lebanon  Human Resource Management             Behavioral   \n",
              "4  Springfield                  Logistics             Conceptual   \n",
              "\n",
              "   Time_of_service  Time_since_promotion  ...  Compensation_and_Benefits  \\\n",
              "0              4.0                     4  ...                      type2   \n",
              "1              5.0                     4  ...                      type2   \n",
              "2             27.0                     3  ...                      type2   \n",
              "3              4.0                     3  ...                      type2   \n",
              "4              5.0                     4  ...                      type3   \n",
              "\n",
              "   Work_Life_balance  VAR1    VAR2    VAR3      VAR4  VAR5  VAR6  VAR7  \\\n",
              "0                3.0     4  0.7516  1.8688  2.000000     4     5     3   \n",
              "1                4.0     3 -0.9612 -0.4537  2.000000     3     5     3   \n",
              "2                1.0     4 -0.9612 -0.4537  3.000000     3     8     3   \n",
              "3                1.0     3 -1.8176 -0.4537  1.891078     3     7     3   \n",
              "4                3.0     1  0.7516 -0.4537  2.000000     2     8     2   \n",
              "\n",
              "   Attrition_rate  \n",
              "0          0.1841  \n",
              "1          0.0670  \n",
              "2          0.0851  \n",
              "3          0.0668  \n",
              "4          0.1827  \n",
              "\n",
              "[5 rows x 24 columns]"
            ]
          },
          "metadata": {
            "tags": []
          },
          "execution_count": 51
        }
      ]
    },
    {
      "cell_type": "code",
      "metadata": {
        "id": "2fk_he-QYFzZ",
        "colab_type": "code",
        "colab": {}
      },
      "source": [
        "from sklearn.preprocessing import LabelEncoder\n",
        "le = LabelEncoder()\n",
        "Hometown_labels = le.fit_transform(data1['Hometown'])\n",
        "Home_map = {index: label for index, label in \n",
        "                  enumerate(le.classes_)}\n",
        "Home_map\n",
        "data1['Hometown'] = Hometown_labels"
      ],
      "execution_count": null,
      "outputs": []
    },
    {
      "cell_type": "code",
      "metadata": {
        "id": "wd29YDx0YFzh",
        "colab_type": "code",
        "colab": {}
      },
      "source": [
        "Hometown_labels = le.fit_transform(data2['Hometown'])\n",
        "Home_map = {index: label for index, label in \n",
        "                  enumerate(le.classes_)}\n",
        "data2['Hometown'] = Hometown_labels"
      ],
      "execution_count": null,
      "outputs": []
    },
    {
      "cell_type": "code",
      "metadata": {
        "id": "wKrmpYFnYFzo",
        "colab_type": "code",
        "colab": {}
      },
      "source": [
        "Unit_labels = le.fit_transform(data1['Unit'])\n",
        "Unit_map = {index: label for index, label in \n",
        "                  enumerate(le.classes_)}\n",
        "Unit_map\n",
        "data1['Unit'] = Unit_labels\n",
        "Unit_labels = le.fit_transform(data2['Unit'])\n",
        "Unit_map = {index: label for index, label in \n",
        "                  enumerate(le.classes_)}\n",
        "data2['Unit'] = Unit_labels"
      ],
      "execution_count": null,
      "outputs": []
    },
    {
      "cell_type": "code",
      "metadata": {
        "id": "aC0MD-pHYFzt",
        "colab_type": "code",
        "colab": {}
      },
      "source": [
        "Decision_skill_possess_labels = le.fit_transform(data1['Decision_skill_possess'])\n",
        "Decision_skill_possess_map = {index: label for index, label in \n",
        "                  enumerate(le.classes_)}\n",
        "Decision_skill_possess_map\n",
        "data1['Decision_skill_possess'] = Decision_skill_possess_labels\n",
        "Decision_skill_possess_labels = le.fit_transform(data2['Decision_skill_possess'])\n",
        "Decision_skill_possess_map = {index: label for index, label in \n",
        "                  enumerate(le.classes_)}\n",
        "data2['Decision_skill_possess'] = Decision_skill_possess_labels"
      ],
      "execution_count": null,
      "outputs": []
    },
    {
      "cell_type": "code",
      "metadata": {
        "id": "A6Sj9FP7YFz4",
        "colab_type": "code",
        "colab": {}
      },
      "source": [
        "Compensation_and_Benefits_labels = le.fit_transform(data1['Compensation_and_Benefits'])\n",
        "Compensation_and_Benefits_map = {index: label for index, label in \n",
        "                  enumerate(le.classes_)}\n",
        "Compensation_and_Benefits_map\n",
        "data1['Compensation_and_Benefits'] = Compensation_and_Benefits_labels\n",
        "Compensation_and_Benefits_labels = le.fit_transform(data2['Compensation_and_Benefits'])\n",
        "Compensation_and_Benefits_map = {index: label for index, label in \n",
        "                  enumerate(le.classes_)}\n",
        "data2['Compensation_and_Benefits'] = Compensation_and_Benefits_labels"
      ],
      "execution_count": null,
      "outputs": []
    },
    {
      "cell_type": "code",
      "metadata": {
        "id": "wPit09j9YFz8",
        "colab_type": "code",
        "colab": {},
        "outputId": "4a8f1709-485f-43dd-dac0-68115f383e3e"
      },
      "source": [
        "data1.head()"
      ],
      "execution_count": null,
      "outputs": [
        {
          "output_type": "execute_result",
          "data": {
            "text/html": [
              "<div>\n",
              "<style scoped>\n",
              "    .dataframe tbody tr th:only-of-type {\n",
              "        vertical-align: middle;\n",
              "    }\n",
              "\n",
              "    .dataframe tbody tr th {\n",
              "        vertical-align: top;\n",
              "    }\n",
              "\n",
              "    .dataframe thead th {\n",
              "        text-align: right;\n",
              "    }\n",
              "</style>\n",
              "<table border=\"1\" class=\"dataframe\">\n",
              "  <thead>\n",
              "    <tr style=\"text-align: right;\">\n",
              "      <th></th>\n",
              "      <th>Employee_ID</th>\n",
              "      <th>Gender</th>\n",
              "      <th>Age</th>\n",
              "      <th>Education_Level</th>\n",
              "      <th>Relationship_Status</th>\n",
              "      <th>Hometown</th>\n",
              "      <th>Unit</th>\n",
              "      <th>Decision_skill_possess</th>\n",
              "      <th>Time_of_service</th>\n",
              "      <th>Time_since_promotion</th>\n",
              "      <th>...</th>\n",
              "      <th>Compensation_and_Benefits</th>\n",
              "      <th>Work_Life_balance</th>\n",
              "      <th>VAR1</th>\n",
              "      <th>VAR2</th>\n",
              "      <th>VAR3</th>\n",
              "      <th>VAR4</th>\n",
              "      <th>VAR5</th>\n",
              "      <th>VAR6</th>\n",
              "      <th>VAR7</th>\n",
              "      <th>Attrition_rate</th>\n",
              "    </tr>\n",
              "  </thead>\n",
              "  <tbody>\n",
              "    <tr>\n",
              "      <td>0</td>\n",
              "      <td>EID_23371</td>\n",
              "      <td>0</td>\n",
              "      <td>42.0</td>\n",
              "      <td>4</td>\n",
              "      <td>1</td>\n",
              "      <td>1</td>\n",
              "      <td>2</td>\n",
              "      <td>2</td>\n",
              "      <td>4.0</td>\n",
              "      <td>4</td>\n",
              "      <td>...</td>\n",
              "      <td>2</td>\n",
              "      <td>3.0</td>\n",
              "      <td>4</td>\n",
              "      <td>0.7516</td>\n",
              "      <td>1.8688</td>\n",
              "      <td>2.000000</td>\n",
              "      <td>4</td>\n",
              "      <td>5</td>\n",
              "      <td>3</td>\n",
              "      <td>0.1841</td>\n",
              "    </tr>\n",
              "    <tr>\n",
              "      <td>1</td>\n",
              "      <td>EID_18000</td>\n",
              "      <td>1</td>\n",
              "      <td>24.0</td>\n",
              "      <td>3</td>\n",
              "      <td>0</td>\n",
              "      <td>3</td>\n",
              "      <td>3</td>\n",
              "      <td>0</td>\n",
              "      <td>5.0</td>\n",
              "      <td>4</td>\n",
              "      <td>...</td>\n",
              "      <td>2</td>\n",
              "      <td>4.0</td>\n",
              "      <td>3</td>\n",
              "      <td>-0.9612</td>\n",
              "      <td>-0.4537</td>\n",
              "      <td>2.000000</td>\n",
              "      <td>3</td>\n",
              "      <td>5</td>\n",
              "      <td>3</td>\n",
              "      <td>0.0670</td>\n",
              "    </tr>\n",
              "    <tr>\n",
              "      <td>2</td>\n",
              "      <td>EID_3891</td>\n",
              "      <td>0</td>\n",
              "      <td>58.0</td>\n",
              "      <td>3</td>\n",
              "      <td>1</td>\n",
              "      <td>0</td>\n",
              "      <td>8</td>\n",
              "      <td>2</td>\n",
              "      <td>27.0</td>\n",
              "      <td>3</td>\n",
              "      <td>...</td>\n",
              "      <td>2</td>\n",
              "      <td>1.0</td>\n",
              "      <td>4</td>\n",
              "      <td>-0.9612</td>\n",
              "      <td>-0.4537</td>\n",
              "      <td>3.000000</td>\n",
              "      <td>3</td>\n",
              "      <td>8</td>\n",
              "      <td>3</td>\n",
              "      <td>0.0851</td>\n",
              "    </tr>\n",
              "    <tr>\n",
              "      <td>3</td>\n",
              "      <td>EID_17492</td>\n",
              "      <td>0</td>\n",
              "      <td>26.0</td>\n",
              "      <td>3</td>\n",
              "      <td>0</td>\n",
              "      <td>2</td>\n",
              "      <td>1</td>\n",
              "      <td>1</td>\n",
              "      <td>4.0</td>\n",
              "      <td>3</td>\n",
              "      <td>...</td>\n",
              "      <td>2</td>\n",
              "      <td>1.0</td>\n",
              "      <td>3</td>\n",
              "      <td>-1.8176</td>\n",
              "      <td>-0.4537</td>\n",
              "      <td>1.891078</td>\n",
              "      <td>3</td>\n",
              "      <td>7</td>\n",
              "      <td>3</td>\n",
              "      <td>0.0668</td>\n",
              "    </tr>\n",
              "    <tr>\n",
              "      <td>4</td>\n",
              "      <td>EID_22534</td>\n",
              "      <td>0</td>\n",
              "      <td>31.0</td>\n",
              "      <td>1</td>\n",
              "      <td>1</td>\n",
              "      <td>3</td>\n",
              "      <td>3</td>\n",
              "      <td>2</td>\n",
              "      <td>5.0</td>\n",
              "      <td>4</td>\n",
              "      <td>...</td>\n",
              "      <td>3</td>\n",
              "      <td>3.0</td>\n",
              "      <td>1</td>\n",
              "      <td>0.7516</td>\n",
              "      <td>-0.4537</td>\n",
              "      <td>2.000000</td>\n",
              "      <td>2</td>\n",
              "      <td>8</td>\n",
              "      <td>2</td>\n",
              "      <td>0.1827</td>\n",
              "    </tr>\n",
              "  </tbody>\n",
              "</table>\n",
              "<p>5 rows × 24 columns</p>\n",
              "</div>"
            ],
            "text/plain": [
              "  Employee_ID  Gender   Age  Education_Level  Relationship_Status  Hometown  \\\n",
              "0   EID_23371       0  42.0                4                    1         1   \n",
              "1   EID_18000       1  24.0                3                    0         3   \n",
              "2    EID_3891       0  58.0                3                    1         0   \n",
              "3   EID_17492       0  26.0                3                    0         2   \n",
              "4   EID_22534       0  31.0                1                    1         3   \n",
              "\n",
              "   Unit  Decision_skill_possess  Time_of_service  Time_since_promotion  ...  \\\n",
              "0     2                       2              4.0                     4  ...   \n",
              "1     3                       0              5.0                     4  ...   \n",
              "2     8                       2             27.0                     3  ...   \n",
              "3     1                       1              4.0                     3  ...   \n",
              "4     3                       2              5.0                     4  ...   \n",
              "\n",
              "   Compensation_and_Benefits  Work_Life_balance  VAR1    VAR2    VAR3  \\\n",
              "0                          2                3.0     4  0.7516  1.8688   \n",
              "1                          2                4.0     3 -0.9612 -0.4537   \n",
              "2                          2                1.0     4 -0.9612 -0.4537   \n",
              "3                          2                1.0     3 -1.8176 -0.4537   \n",
              "4                          3                3.0     1  0.7516 -0.4537   \n",
              "\n",
              "       VAR4  VAR5  VAR6  VAR7  Attrition_rate  \n",
              "0  2.000000     4     5     3          0.1841  \n",
              "1  2.000000     3     5     3          0.0670  \n",
              "2  3.000000     3     8     3          0.0851  \n",
              "3  1.891078     3     7     3          0.0668  \n",
              "4  2.000000     2     8     2          0.1827  \n",
              "\n",
              "[5 rows x 24 columns]"
            ]
          },
          "metadata": {
            "tags": []
          },
          "execution_count": 60
        }
      ]
    },
    {
      "cell_type": "code",
      "metadata": {
        "id": "gYdKS6ybYF0C",
        "colab_type": "code",
        "colab": {}
      },
      "source": [
        ""
      ],
      "execution_count": null,
      "outputs": []
    },
    {
      "cell_type": "code",
      "metadata": {
        "id": "41sDdcAtYF0J",
        "colab_type": "code",
        "colab": {}
      },
      "source": [
        "#fig,ax=plt.subplots(figsize=(18,4))\n",
        "#sns.heatmap(corrmat, annot='True', annot_kws={'size':12})"
      ],
      "execution_count": null,
      "outputs": []
    },
    {
      "cell_type": "code",
      "metadata": {
        "id": "jm9u2T0sYF0P",
        "colab_type": "code",
        "colab": {}
      },
      "source": [
        "#d1=pd.get_dummies(x1,prefix=None, prefix_sep='_', dummy_na=False, columns=['Unit','Decision_skill_possess','Education_Level','Compensation_and_Benefits'])"
      ],
      "execution_count": null,
      "outputs": []
    },
    {
      "cell_type": "code",
      "metadata": {
        "id": "y8NwP1olYF0Y",
        "colab_type": "code",
        "colab": {}
      },
      "source": [
        "#d2=pd.get_dummies(x2,prefix=None, prefix_sep='_', dummy_na=False, columns=['Unit','Decision_skill_possess','Education_Level','Compensation_and_Benefits'])"
      ],
      "execution_count": null,
      "outputs": []
    },
    {
      "cell_type": "code",
      "metadata": {
        "scrolled": true,
        "id": "iMx8B2gZYF0c",
        "colab_type": "code",
        "colab": {}
      },
      "source": [
        ""
      ],
      "execution_count": null,
      "outputs": []
    },
    {
      "cell_type": "code",
      "metadata": {
        "id": "feGHXoK1YF0h",
        "colab_type": "code",
        "colab": {}
      },
      "source": [
        "#data1.dtypes"
      ],
      "execution_count": null,
      "outputs": []
    },
    {
      "cell_type": "code",
      "metadata": {
        "id": "r7MAg4agYF0l",
        "colab_type": "code",
        "colab": {}
      },
      "source": [
        "x_train=data1.drop(['Attrition_rate','Employee_ID'],axis=1)\n",
        "y_train=data1['Attrition_rate']"
      ],
      "execution_count": null,
      "outputs": []
    },
    {
      "cell_type": "code",
      "metadata": {
        "id": "0eMtCICUYF0p",
        "colab_type": "code",
        "colab": {}
      },
      "source": [
        "from sklearn.preprocessing import StandardScaler\n",
        "sc=StandardScaler()\n",
        "x_train=sc.fit_transform(x_train)"
      ],
      "execution_count": null,
      "outputs": []
    },
    {
      "cell_type": "code",
      "metadata": {
        "id": "PyU6s9AWYF0t",
        "colab_type": "code",
        "colab": {},
        "outputId": "675fe942-7396-4a04-9a32-604764fd7f8c"
      },
      "source": [
        "x_train.shape,y_train.shape"
      ],
      "execution_count": null,
      "outputs": [
        {
          "output_type": "execute_result",
          "data": {
            "text/plain": [
              "((7000, 22), (7000,))"
            ]
          },
          "metadata": {
            "tags": []
          },
          "execution_count": 64
        }
      ]
    },
    {
      "cell_type": "code",
      "metadata": {
        "id": "EaSoY7d5YF0x",
        "colab_type": "code",
        "colab": {}
      },
      "source": [
        "x_test = data2.drop(columns=['Employee_ID'])"
      ],
      "execution_count": null,
      "outputs": []
    },
    {
      "cell_type": "code",
      "metadata": {
        "scrolled": true,
        "id": "krqwe0ioYF00",
        "colab_type": "code",
        "colab": {},
        "outputId": "5834db59-95d4-4842-bf2e-cd9f482ee5bb"
      },
      "source": [
        "x_test.shape"
      ],
      "execution_count": null,
      "outputs": [
        {
          "output_type": "execute_result",
          "data": {
            "text/plain": [
              "(3000, 22)"
            ]
          },
          "metadata": {
            "tags": []
          },
          "execution_count": 66
        }
      ]
    },
    {
      "cell_type": "code",
      "metadata": {
        "id": "gs_qkfShYF04",
        "colab_type": "code",
        "colab": {},
        "outputId": "4e97b940-386e-47b7-f379-5a988ab4e882"
      },
      "source": [
        "x_test.isnull().any().sum()"
      ],
      "execution_count": null,
      "outputs": [
        {
          "output_type": "execute_result",
          "data": {
            "text/plain": [
              "0"
            ]
          },
          "metadata": {
            "tags": []
          },
          "execution_count": 67
        }
      ]
    },
    {
      "cell_type": "code",
      "metadata": {
        "id": "5Bib-l9kYF0-",
        "colab_type": "code",
        "colab": {}
      },
      "source": [
        "x_test=sc.fit_transform(x_test)"
      ],
      "execution_count": null,
      "outputs": []
    },
    {
      "cell_type": "code",
      "metadata": {
        "id": "J3fOPAJ4YF1B",
        "colab_type": "code",
        "colab": {},
        "outputId": "2184c5f2-4818-468c-e58a-723808c380fc"
      },
      "source": [
        "from sklearn.linear_model import Lasso\n",
        "model=Lasso()\n",
        "model.fit(x_train,y_train)"
      ],
      "execution_count": null,
      "outputs": [
        {
          "output_type": "execute_result",
          "data": {
            "text/plain": [
              "Lasso(alpha=1.0, copy_X=True, fit_intercept=True, max_iter=1000,\n",
              "      normalize=False, positive=False, precompute=False, random_state=None,\n",
              "      selection='cyclic', tol=0.0001, warm_start=False)"
            ]
          },
          "metadata": {
            "tags": []
          },
          "execution_count": 80
        }
      ]
    },
    {
      "cell_type": "code",
      "metadata": {
        "id": "OY6P22NuYF1G",
        "colab_type": "code",
        "colab": {},
        "outputId": "0748367f-5059-4a21-b136-13ac34df1afb"
      },
      "source": [
        "y_pred = model.predict(x_test)\n",
        "y_pred"
      ],
      "execution_count": null,
      "outputs": [
        {
          "output_type": "execute_result",
          "data": {
            "text/plain": [
              "array([0.18937613, 0.18937613, 0.18937613, ..., 0.18937613, 0.18937613,\n",
              "       0.18937613])"
            ]
          },
          "metadata": {
            "tags": []
          },
          "execution_count": 81
        }
      ]
    },
    {
      "cell_type": "code",
      "metadata": {
        "id": "gPNyarefYF1K",
        "colab_type": "code",
        "colab": {}
      },
      "source": [
        "df=pd.DataFrame(data=y_pred,columns=['Attrition_rate'])"
      ],
      "execution_count": null,
      "outputs": []
    },
    {
      "cell_type": "code",
      "metadata": {
        "id": "rk3i53fCYF1N",
        "colab_type": "code",
        "colab": {}
      },
      "source": [
        "submission=pd.DataFrame(data=data2['Employee_ID'],columns=['Employee_ID','Attrition_rate'])\n",
        "submission['Attrition_rate']=df"
      ],
      "execution_count": null,
      "outputs": []
    },
    {
      "cell_type": "code",
      "metadata": {
        "id": "Dts7LFvBYF1U",
        "colab_type": "code",
        "colab": {}
      },
      "source": [
        "submission.to_csv('submission.csv', index=False)"
      ],
      "execution_count": null,
      "outputs": []
    },
    {
      "cell_type": "code",
      "metadata": {
        "id": "Ito7FZCYYF1c",
        "colab_type": "code",
        "colab": {}
      },
      "source": [
        ""
      ],
      "execution_count": null,
      "outputs": []
    },
    {
      "cell_type": "code",
      "metadata": {
        "id": "591p1PJNYF1h",
        "colab_type": "code",
        "colab": {}
      },
      "source": [
        ""
      ],
      "execution_count": null,
      "outputs": []
    }
  ]
}